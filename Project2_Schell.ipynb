{
  "nbformat": 4,
  "nbformat_minor": 0,
  "metadata": {
    "colab": {
      "provenance": [],
      "include_colab_link": true
    },
    "kernelspec": {
      "name": "python3",
      "display_name": "Python 3"
    },
    "language_info": {
      "name": "python"
    },
    "accelerator": "GPU",
    "gpuClass": "standard"
  },
  "cells": [
    {
      "cell_type": "markdown",
      "metadata": {
        "id": "view-in-github",
        "colab_type": "text"
      },
      "source": [
        "<a href=\"https://colab.research.google.com/github/j23-cs167/project-2-BenjaminSchell/blob/main/Project2_Schell.ipynb\" target=\"_parent\"><img src=\"https://colab.research.google.com/assets/colab-badge.svg\" alt=\"Open In Colab\"/></a>"
      ]
    },
    {
      "cell_type": "markdown",
      "source": [
        "# Project #2\n",
        "##Name: Benjamin Schell\n",
        "\n",
        "Proposed Points (out of 25): 20"
      ],
      "metadata": {
        "id": "rIepkBIuT_Pl"
      }
    },
    {
      "cell_type": "markdown",
      "source": [
        "# 1. Problem\n",
        "State the problem you are trying to solve with this machine learning experiment. Include a description of the data, where you got the data, and what you're trying to predict.."
      ],
      "metadata": {
        "id": "HbwKLNhzP8YO"
      }
    },
    {
      "cell_type": "markdown",
      "source": [
        "That data that I am using is food delivery from NYC. I got the data set from KRAGGE, it has around 1100 different ratings from customers. I would like to predict the rating a restruant would receive based on the cuisine type, speed of food preperation, and how fast the delivery was."
      ],
      "metadata": {
        "id": "LwseoUsMmCz2"
      }
    },
    {
      "cell_type": "markdown",
      "source": [
        "# 2. Data Preparation\n",
        "Explain your data preparation. What did you have to do to get your data in shape for your experiments? Why are you certain that you data is clean and prepared for use in your algorithms?"
      ],
      "metadata": {
        "id": "qR_foVOeQVL7"
      }
    },
    {
      "cell_type": "markdown",
      "source": [
        "Before loading the data into colab, I looked at the data in the excel format to understand what was happening. There were two columns at the front that I deleted completely. These two columns were order number and customer identification, both of these columns are meaningless because they are prectically a random string of numbers that would not be able to predict the rating of that particular order. In the rating column about 100 of the elements had no rating, so I deleted those observations. Without any rating from a customer it would be impossible to use them for predicting. After looking over the data one last time to see any other possible mistakes, I realized I need to create dummy variables for the catagorical columns. This is shown below."
      ],
      "metadata": {
        "id": "aMDJDnW_mOWu"
      }
    },
    {
      "cell_type": "code",
      "source": [
        "from google.colab import drive\n",
        "import pandas as pd\n",
        "drive.mount('/content/drive')\n",
        "data= pd.read_csv('/content/drive/MyDrive/January_23/food_order.csv')\n",
        "data.head()"
      ],
      "metadata": {
        "id": "9dUdBChRmKxR",
        "colab": {
          "base_uri": "https://localhost:8080/",
          "height": 224
        },
        "outputId": "3a0010da-875c-4df6-e661-501352e52243"
      },
      "execution_count": 44,
      "outputs": [
        {
          "output_type": "stream",
          "name": "stdout",
          "text": [
            "Drive already mounted at /content/drive; to attempt to forcibly remount, call drive.mount(\"/content/drive\", force_remount=True).\n"
          ]
        },
        {
          "output_type": "execute_result",
          "data": {
            "text/plain": [
              "             restaurant_name   cuisine_type  cost_of_the_order  \\\n",
              "0                Cafe Habana        Mexican              12.23   \n",
              "1  Blue Ribbon Fried Chicken       American              29.20   \n",
              "2           Dirty Bird to Go       American              11.59   \n",
              "3           Tamarind TriBeCa         Indian              25.22   \n",
              "4                  Barbounia  Mediterranean               5.97   \n",
              "\n",
              "  day_of_the_week  rating  food_preparation_time  delivery_time  \n",
              "0         Weekday       5                     23             28  \n",
              "1         Weekend       3                     25             15  \n",
              "2         Weekday       4                     25             24  \n",
              "3         Weekday       3                     20             24  \n",
              "4         Weekday       3                     33             30  "
            ],
            "text/html": [
              "\n",
              "  <div id=\"df-98e90f60-817c-403c-af8c-4e667a169727\">\n",
              "    <div class=\"colab-df-container\">\n",
              "      <div>\n",
              "<style scoped>\n",
              "    .dataframe tbody tr th:only-of-type {\n",
              "        vertical-align: middle;\n",
              "    }\n",
              "\n",
              "    .dataframe tbody tr th {\n",
              "        vertical-align: top;\n",
              "    }\n",
              "\n",
              "    .dataframe thead th {\n",
              "        text-align: right;\n",
              "    }\n",
              "</style>\n",
              "<table border=\"1\" class=\"dataframe\">\n",
              "  <thead>\n",
              "    <tr style=\"text-align: right;\">\n",
              "      <th></th>\n",
              "      <th>restaurant_name</th>\n",
              "      <th>cuisine_type</th>\n",
              "      <th>cost_of_the_order</th>\n",
              "      <th>day_of_the_week</th>\n",
              "      <th>rating</th>\n",
              "      <th>food_preparation_time</th>\n",
              "      <th>delivery_time</th>\n",
              "    </tr>\n",
              "  </thead>\n",
              "  <tbody>\n",
              "    <tr>\n",
              "      <th>0</th>\n",
              "      <td>Cafe Habana</td>\n",
              "      <td>Mexican</td>\n",
              "      <td>12.23</td>\n",
              "      <td>Weekday</td>\n",
              "      <td>5</td>\n",
              "      <td>23</td>\n",
              "      <td>28</td>\n",
              "    </tr>\n",
              "    <tr>\n",
              "      <th>1</th>\n",
              "      <td>Blue Ribbon Fried Chicken</td>\n",
              "      <td>American</td>\n",
              "      <td>29.20</td>\n",
              "      <td>Weekend</td>\n",
              "      <td>3</td>\n",
              "      <td>25</td>\n",
              "      <td>15</td>\n",
              "    </tr>\n",
              "    <tr>\n",
              "      <th>2</th>\n",
              "      <td>Dirty Bird to Go</td>\n",
              "      <td>American</td>\n",
              "      <td>11.59</td>\n",
              "      <td>Weekday</td>\n",
              "      <td>4</td>\n",
              "      <td>25</td>\n",
              "      <td>24</td>\n",
              "    </tr>\n",
              "    <tr>\n",
              "      <th>3</th>\n",
              "      <td>Tamarind TriBeCa</td>\n",
              "      <td>Indian</td>\n",
              "      <td>25.22</td>\n",
              "      <td>Weekday</td>\n",
              "      <td>3</td>\n",
              "      <td>20</td>\n",
              "      <td>24</td>\n",
              "    </tr>\n",
              "    <tr>\n",
              "      <th>4</th>\n",
              "      <td>Barbounia</td>\n",
              "      <td>Mediterranean</td>\n",
              "      <td>5.97</td>\n",
              "      <td>Weekday</td>\n",
              "      <td>3</td>\n",
              "      <td>33</td>\n",
              "      <td>30</td>\n",
              "    </tr>\n",
              "  </tbody>\n",
              "</table>\n",
              "</div>\n",
              "      <button class=\"colab-df-convert\" onclick=\"convertToInteractive('df-98e90f60-817c-403c-af8c-4e667a169727')\"\n",
              "              title=\"Convert this dataframe to an interactive table.\"\n",
              "              style=\"display:none;\">\n",
              "        \n",
              "  <svg xmlns=\"http://www.w3.org/2000/svg\" height=\"24px\"viewBox=\"0 0 24 24\"\n",
              "       width=\"24px\">\n",
              "    <path d=\"M0 0h24v24H0V0z\" fill=\"none\"/>\n",
              "    <path d=\"M18.56 5.44l.94 2.06.94-2.06 2.06-.94-2.06-.94-.94-2.06-.94 2.06-2.06.94zm-11 1L8.5 8.5l.94-2.06 2.06-.94-2.06-.94L8.5 2.5l-.94 2.06-2.06.94zm10 10l.94 2.06.94-2.06 2.06-.94-2.06-.94-.94-2.06-.94 2.06-2.06.94z\"/><path d=\"M17.41 7.96l-1.37-1.37c-.4-.4-.92-.59-1.43-.59-.52 0-1.04.2-1.43.59L10.3 9.45l-7.72 7.72c-.78.78-.78 2.05 0 2.83L4 21.41c.39.39.9.59 1.41.59.51 0 1.02-.2 1.41-.59l7.78-7.78 2.81-2.81c.8-.78.8-2.07 0-2.86zM5.41 20L4 18.59l7.72-7.72 1.47 1.35L5.41 20z\"/>\n",
              "  </svg>\n",
              "      </button>\n",
              "      \n",
              "  <style>\n",
              "    .colab-df-container {\n",
              "      display:flex;\n",
              "      flex-wrap:wrap;\n",
              "      gap: 12px;\n",
              "    }\n",
              "\n",
              "    .colab-df-convert {\n",
              "      background-color: #E8F0FE;\n",
              "      border: none;\n",
              "      border-radius: 50%;\n",
              "      cursor: pointer;\n",
              "      display: none;\n",
              "      fill: #1967D2;\n",
              "      height: 32px;\n",
              "      padding: 0 0 0 0;\n",
              "      width: 32px;\n",
              "    }\n",
              "\n",
              "    .colab-df-convert:hover {\n",
              "      background-color: #E2EBFA;\n",
              "      box-shadow: 0px 1px 2px rgba(60, 64, 67, 0.3), 0px 1px 3px 1px rgba(60, 64, 67, 0.15);\n",
              "      fill: #174EA6;\n",
              "    }\n",
              "\n",
              "    [theme=dark] .colab-df-convert {\n",
              "      background-color: #3B4455;\n",
              "      fill: #D2E3FC;\n",
              "    }\n",
              "\n",
              "    [theme=dark] .colab-df-convert:hover {\n",
              "      background-color: #434B5C;\n",
              "      box-shadow: 0px 1px 3px 1px rgba(0, 0, 0, 0.15);\n",
              "      filter: drop-shadow(0px 1px 2px rgba(0, 0, 0, 0.3));\n",
              "      fill: #FFFFFF;\n",
              "    }\n",
              "  </style>\n",
              "\n",
              "      <script>\n",
              "        const buttonEl =\n",
              "          document.querySelector('#df-98e90f60-817c-403c-af8c-4e667a169727 button.colab-df-convert');\n",
              "        buttonEl.style.display =\n",
              "          google.colab.kernel.accessAllowed ? 'block' : 'none';\n",
              "\n",
              "        async function convertToInteractive(key) {\n",
              "          const element = document.querySelector('#df-98e90f60-817c-403c-af8c-4e667a169727');\n",
              "          const dataTable =\n",
              "            await google.colab.kernel.invokeFunction('convertToInteractive',\n",
              "                                                     [key], {});\n",
              "          if (!dataTable) return;\n",
              "\n",
              "          const docLinkHtml = 'Like what you see? Visit the ' +\n",
              "            '<a target=\"_blank\" href=https://colab.research.google.com/notebooks/data_table.ipynb>data table notebook</a>'\n",
              "            + ' to learn more about interactive tables.';\n",
              "          element.innerHTML = '';\n",
              "          dataTable['output_type'] = 'display_data';\n",
              "          await google.colab.output.renderOutput(dataTable, element);\n",
              "          const docLink = document.createElement('div');\n",
              "          docLink.innerHTML = docLinkHtml;\n",
              "          element.appendChild(docLink);\n",
              "        }\n",
              "      </script>\n",
              "    </div>\n",
              "  </div>\n",
              "  "
            ]
          },
          "metadata": {},
          "execution_count": 44
        }
      ]
    },
    {
      "cell_type": "code",
      "source": [
        "data_with_dummies = pd.get_dummies(data, columns=['cuisine_type', 'day_of_the_week'])\n",
        "data_with_dummies.head()"
      ],
      "metadata": {
        "colab": {
          "base_uri": "https://localhost:8080/",
          "height": 334
        },
        "id": "K08dX9Si5rsC",
        "outputId": "0a03b69e-df04-4702-ff72-d622e23e4317"
      },
      "execution_count": 45,
      "outputs": [
        {
          "output_type": "execute_result",
          "data": {
            "text/plain": [
              "             restaurant_name  cost_of_the_order  rating  \\\n",
              "0                Cafe Habana              12.23       5   \n",
              "1  Blue Ribbon Fried Chicken              29.20       3   \n",
              "2           Dirty Bird to Go              11.59       4   \n",
              "3           Tamarind TriBeCa              25.22       3   \n",
              "4                  Barbounia               5.97       3   \n",
              "\n",
              "   food_preparation_time  delivery_time  cuisine_type_American  \\\n",
              "0                     23             28                      0   \n",
              "1                     25             15                      1   \n",
              "2                     25             24                      1   \n",
              "3                     20             24                      0   \n",
              "4                     33             30                      0   \n",
              "\n",
              "   cuisine_type_Chinese  cuisine_type_French  cuisine_type_Indian  \\\n",
              "0                     0                    0                    0   \n",
              "1                     0                    0                    0   \n",
              "2                     0                    0                    0   \n",
              "3                     0                    0                    1   \n",
              "4                     0                    0                    0   \n",
              "\n",
              "   cuisine_type_Italian  ...  cuisine_type_Korean  cuisine_type_Mediterranean  \\\n",
              "0                     0  ...                    0                           0   \n",
              "1                     0  ...                    0                           0   \n",
              "2                     0  ...                    0                           0   \n",
              "3                     0  ...                    0                           0   \n",
              "4                     0  ...                    0                           1   \n",
              "\n",
              "   cuisine_type_Mexican  cuisine_type_Middle Eastern  cuisine_type_Southern  \\\n",
              "0                     1                            0                      0   \n",
              "1                     0                            0                      0   \n",
              "2                     0                            0                      0   \n",
              "3                     0                            0                      0   \n",
              "4                     0                            0                      0   \n",
              "\n",
              "   cuisine_type_Spanish  cuisine_type_Thai  cuisine_type_Vietnamese  \\\n",
              "0                     0                  0                        0   \n",
              "1                     0                  0                        0   \n",
              "2                     0                  0                        0   \n",
              "3                     0                  0                        0   \n",
              "4                     0                  0                        0   \n",
              "\n",
              "   day_of_the_week_Weekday  day_of_the_week_Weekend  \n",
              "0                        1                        0  \n",
              "1                        0                        1  \n",
              "2                        1                        0  \n",
              "3                        1                        0  \n",
              "4                        1                        0  \n",
              "\n",
              "[5 rows x 21 columns]"
            ],
            "text/html": [
              "\n",
              "  <div id=\"df-a33ff7cb-6d30-4c73-a6fe-bb916d86cc74\">\n",
              "    <div class=\"colab-df-container\">\n",
              "      <div>\n",
              "<style scoped>\n",
              "    .dataframe tbody tr th:only-of-type {\n",
              "        vertical-align: middle;\n",
              "    }\n",
              "\n",
              "    .dataframe tbody tr th {\n",
              "        vertical-align: top;\n",
              "    }\n",
              "\n",
              "    .dataframe thead th {\n",
              "        text-align: right;\n",
              "    }\n",
              "</style>\n",
              "<table border=\"1\" class=\"dataframe\">\n",
              "  <thead>\n",
              "    <tr style=\"text-align: right;\">\n",
              "      <th></th>\n",
              "      <th>restaurant_name</th>\n",
              "      <th>cost_of_the_order</th>\n",
              "      <th>rating</th>\n",
              "      <th>food_preparation_time</th>\n",
              "      <th>delivery_time</th>\n",
              "      <th>cuisine_type_American</th>\n",
              "      <th>cuisine_type_Chinese</th>\n",
              "      <th>cuisine_type_French</th>\n",
              "      <th>cuisine_type_Indian</th>\n",
              "      <th>cuisine_type_Italian</th>\n",
              "      <th>...</th>\n",
              "      <th>cuisine_type_Korean</th>\n",
              "      <th>cuisine_type_Mediterranean</th>\n",
              "      <th>cuisine_type_Mexican</th>\n",
              "      <th>cuisine_type_Middle Eastern</th>\n",
              "      <th>cuisine_type_Southern</th>\n",
              "      <th>cuisine_type_Spanish</th>\n",
              "      <th>cuisine_type_Thai</th>\n",
              "      <th>cuisine_type_Vietnamese</th>\n",
              "      <th>day_of_the_week_Weekday</th>\n",
              "      <th>day_of_the_week_Weekend</th>\n",
              "    </tr>\n",
              "  </thead>\n",
              "  <tbody>\n",
              "    <tr>\n",
              "      <th>0</th>\n",
              "      <td>Cafe Habana</td>\n",
              "      <td>12.23</td>\n",
              "      <td>5</td>\n",
              "      <td>23</td>\n",
              "      <td>28</td>\n",
              "      <td>0</td>\n",
              "      <td>0</td>\n",
              "      <td>0</td>\n",
              "      <td>0</td>\n",
              "      <td>0</td>\n",
              "      <td>...</td>\n",
              "      <td>0</td>\n",
              "      <td>0</td>\n",
              "      <td>1</td>\n",
              "      <td>0</td>\n",
              "      <td>0</td>\n",
              "      <td>0</td>\n",
              "      <td>0</td>\n",
              "      <td>0</td>\n",
              "      <td>1</td>\n",
              "      <td>0</td>\n",
              "    </tr>\n",
              "    <tr>\n",
              "      <th>1</th>\n",
              "      <td>Blue Ribbon Fried Chicken</td>\n",
              "      <td>29.20</td>\n",
              "      <td>3</td>\n",
              "      <td>25</td>\n",
              "      <td>15</td>\n",
              "      <td>1</td>\n",
              "      <td>0</td>\n",
              "      <td>0</td>\n",
              "      <td>0</td>\n",
              "      <td>0</td>\n",
              "      <td>...</td>\n",
              "      <td>0</td>\n",
              "      <td>0</td>\n",
              "      <td>0</td>\n",
              "      <td>0</td>\n",
              "      <td>0</td>\n",
              "      <td>0</td>\n",
              "      <td>0</td>\n",
              "      <td>0</td>\n",
              "      <td>0</td>\n",
              "      <td>1</td>\n",
              "    </tr>\n",
              "    <tr>\n",
              "      <th>2</th>\n",
              "      <td>Dirty Bird to Go</td>\n",
              "      <td>11.59</td>\n",
              "      <td>4</td>\n",
              "      <td>25</td>\n",
              "      <td>24</td>\n",
              "      <td>1</td>\n",
              "      <td>0</td>\n",
              "      <td>0</td>\n",
              "      <td>0</td>\n",
              "      <td>0</td>\n",
              "      <td>...</td>\n",
              "      <td>0</td>\n",
              "      <td>0</td>\n",
              "      <td>0</td>\n",
              "      <td>0</td>\n",
              "      <td>0</td>\n",
              "      <td>0</td>\n",
              "      <td>0</td>\n",
              "      <td>0</td>\n",
              "      <td>1</td>\n",
              "      <td>0</td>\n",
              "    </tr>\n",
              "    <tr>\n",
              "      <th>3</th>\n",
              "      <td>Tamarind TriBeCa</td>\n",
              "      <td>25.22</td>\n",
              "      <td>3</td>\n",
              "      <td>20</td>\n",
              "      <td>24</td>\n",
              "      <td>0</td>\n",
              "      <td>0</td>\n",
              "      <td>0</td>\n",
              "      <td>1</td>\n",
              "      <td>0</td>\n",
              "      <td>...</td>\n",
              "      <td>0</td>\n",
              "      <td>0</td>\n",
              "      <td>0</td>\n",
              "      <td>0</td>\n",
              "      <td>0</td>\n",
              "      <td>0</td>\n",
              "      <td>0</td>\n",
              "      <td>0</td>\n",
              "      <td>1</td>\n",
              "      <td>0</td>\n",
              "    </tr>\n",
              "    <tr>\n",
              "      <th>4</th>\n",
              "      <td>Barbounia</td>\n",
              "      <td>5.97</td>\n",
              "      <td>3</td>\n",
              "      <td>33</td>\n",
              "      <td>30</td>\n",
              "      <td>0</td>\n",
              "      <td>0</td>\n",
              "      <td>0</td>\n",
              "      <td>0</td>\n",
              "      <td>0</td>\n",
              "      <td>...</td>\n",
              "      <td>0</td>\n",
              "      <td>1</td>\n",
              "      <td>0</td>\n",
              "      <td>0</td>\n",
              "      <td>0</td>\n",
              "      <td>0</td>\n",
              "      <td>0</td>\n",
              "      <td>0</td>\n",
              "      <td>1</td>\n",
              "      <td>0</td>\n",
              "    </tr>\n",
              "  </tbody>\n",
              "</table>\n",
              "<p>5 rows × 21 columns</p>\n",
              "</div>\n",
              "      <button class=\"colab-df-convert\" onclick=\"convertToInteractive('df-a33ff7cb-6d30-4c73-a6fe-bb916d86cc74')\"\n",
              "              title=\"Convert this dataframe to an interactive table.\"\n",
              "              style=\"display:none;\">\n",
              "        \n",
              "  <svg xmlns=\"http://www.w3.org/2000/svg\" height=\"24px\"viewBox=\"0 0 24 24\"\n",
              "       width=\"24px\">\n",
              "    <path d=\"M0 0h24v24H0V0z\" fill=\"none\"/>\n",
              "    <path d=\"M18.56 5.44l.94 2.06.94-2.06 2.06-.94-2.06-.94-.94-2.06-.94 2.06-2.06.94zm-11 1L8.5 8.5l.94-2.06 2.06-.94-2.06-.94L8.5 2.5l-.94 2.06-2.06.94zm10 10l.94 2.06.94-2.06 2.06-.94-2.06-.94-.94-2.06-.94 2.06-2.06.94z\"/><path d=\"M17.41 7.96l-1.37-1.37c-.4-.4-.92-.59-1.43-.59-.52 0-1.04.2-1.43.59L10.3 9.45l-7.72 7.72c-.78.78-.78 2.05 0 2.83L4 21.41c.39.39.9.59 1.41.59.51 0 1.02-.2 1.41-.59l7.78-7.78 2.81-2.81c.8-.78.8-2.07 0-2.86zM5.41 20L4 18.59l7.72-7.72 1.47 1.35L5.41 20z\"/>\n",
              "  </svg>\n",
              "      </button>\n",
              "      \n",
              "  <style>\n",
              "    .colab-df-container {\n",
              "      display:flex;\n",
              "      flex-wrap:wrap;\n",
              "      gap: 12px;\n",
              "    }\n",
              "\n",
              "    .colab-df-convert {\n",
              "      background-color: #E8F0FE;\n",
              "      border: none;\n",
              "      border-radius: 50%;\n",
              "      cursor: pointer;\n",
              "      display: none;\n",
              "      fill: #1967D2;\n",
              "      height: 32px;\n",
              "      padding: 0 0 0 0;\n",
              "      width: 32px;\n",
              "    }\n",
              "\n",
              "    .colab-df-convert:hover {\n",
              "      background-color: #E2EBFA;\n",
              "      box-shadow: 0px 1px 2px rgba(60, 64, 67, 0.3), 0px 1px 3px 1px rgba(60, 64, 67, 0.15);\n",
              "      fill: #174EA6;\n",
              "    }\n",
              "\n",
              "    [theme=dark] .colab-df-convert {\n",
              "      background-color: #3B4455;\n",
              "      fill: #D2E3FC;\n",
              "    }\n",
              "\n",
              "    [theme=dark] .colab-df-convert:hover {\n",
              "      background-color: #434B5C;\n",
              "      box-shadow: 0px 1px 3px 1px rgba(0, 0, 0, 0.15);\n",
              "      filter: drop-shadow(0px 1px 2px rgba(0, 0, 0, 0.3));\n",
              "      fill: #FFFFFF;\n",
              "    }\n",
              "  </style>\n",
              "\n",
              "      <script>\n",
              "        const buttonEl =\n",
              "          document.querySelector('#df-a33ff7cb-6d30-4c73-a6fe-bb916d86cc74 button.colab-df-convert');\n",
              "        buttonEl.style.display =\n",
              "          google.colab.kernel.accessAllowed ? 'block' : 'none';\n",
              "\n",
              "        async function convertToInteractive(key) {\n",
              "          const element = document.querySelector('#df-a33ff7cb-6d30-4c73-a6fe-bb916d86cc74');\n",
              "          const dataTable =\n",
              "            await google.colab.kernel.invokeFunction('convertToInteractive',\n",
              "                                                     [key], {});\n",
              "          if (!dataTable) return;\n",
              "\n",
              "          const docLinkHtml = 'Like what you see? Visit the ' +\n",
              "            '<a target=\"_blank\" href=https://colab.research.google.com/notebooks/data_table.ipynb>data table notebook</a>'\n",
              "            + ' to learn more about interactive tables.';\n",
              "          element.innerHTML = '';\n",
              "          dataTable['output_type'] = 'display_data';\n",
              "          await google.colab.output.renderOutput(dataTable, element);\n",
              "          const docLink = document.createElement('div');\n",
              "          docLink.innerHTML = docLinkHtml;\n",
              "          element.appendChild(docLink);\n",
              "        }\n",
              "      </script>\n",
              "    </div>\n",
              "  </div>\n",
              "  "
            ]
          },
          "metadata": {},
          "execution_count": 45
        }
      ]
    },
    {
      "cell_type": "code",
      "source": [
        "import warnings\n",
        "warnings.filterwarnings(\"ignore\")"
      ],
      "metadata": {
        "id": "GzvdPN4C9Oyp"
      },
      "execution_count": 46,
      "outputs": []
    },
    {
      "cell_type": "markdown",
      "source": [
        "# 3. Research\n",
        "\n",
        "Put your code and your experiments here."
      ],
      "metadata": {
        "id": "Hc7HMmNPR10W"
      }
    },
    {
      "cell_type": "code",
      "source": [
        "### BASE LINE MODEL ###\n",
        "from sklearn.dummy import DummyRegressor\n",
        "from sklearn.model_selection import train_test_split\n",
        "from sklearn import metrics\n",
        "\n",
        "predictors = data_with_dummies.columns.drop('rating').drop('restaurant_name')\n",
        "target = 'rating'\n",
        "\n",
        "train_data, test_data, train_sln, test_sln = train_test_split(data_with_dummies[predictors], data_with_dummies[target], test_size = 0.2, random_state=41)\n",
        "\n",
        "dummy_regr = DummyRegressor() # will always predict the average of the target\n",
        "dummy_regr.fit(train_data, train_sln)\n",
        "predictions_dummy = dummy_regr.predict(test_data)\n",
        "\n",
        "print('The MSE of this model is:', metrics.mean_squared_error(test_sln, predictions_dummy))"
      ],
      "metadata": {
        "colab": {
          "base_uri": "https://localhost:8080/"
        },
        "id": "XVGgeXow5aUB",
        "outputId": "b140c92b-1896-44f7-8557-902df8cf3fb2"
      },
      "execution_count": 47,
      "outputs": [
        {
          "output_type": "stream",
          "name": "stdout",
          "text": [
            "The MSE of this model is: 0.5529846743688092\n"
          ]
        }
      ]
    },
    {
      "cell_type": "code",
      "source": [
        "### NORMALIZING THE DATA ###\n",
        "from sklearn.preprocessing import StandardScaler\n",
        "scaler = StandardScaler()\n",
        "scaler.fit(train_data)\n",
        "train_data = scaler.transform(train_data)\n",
        "test_data = scaler.transform(test_data)"
      ],
      "metadata": {
        "id": "NhZV_CFw7xZX"
      },
      "execution_count": 48,
      "outputs": []
    },
    {
      "cell_type": "code",
      "source": [
        "### WEIGHTED k-NN REGRESSION MODEL ###\n",
        "from sklearn import neighbors\n",
        "w_knn = neighbors.KNeighborsRegressor(weights='distance')\n",
        "w_knn.fit(train_data,train_sln)\n",
        "predictions_w_knn = w_knn.predict(test_data)\n",
        "print('The MSE of this model is:', metrics.mean_squared_error(test_sln, predictions_w_knn))"
      ],
      "metadata": {
        "colab": {
          "base_uri": "https://localhost:8080/"
        },
        "id": "3vH49fpQ65SY",
        "outputId": "50a4e915-ba7d-4333-d32b-6ab31687da2c"
      },
      "execution_count": 49,
      "outputs": [
        {
          "output_type": "stream",
          "name": "stdout",
          "text": [
            "The MSE of this model is: 0.6191635090582309\n"
          ]
        }
      ]
    },
    {
      "cell_type": "code",
      "source": [
        "### RANDOM FOREST MODEL ###\n",
        "from sklearn.ensemble import RandomForestRegressor\n",
        "forest = RandomForestRegressor(random_state = 41)\n",
        "forest.fit(train_data,train_sln)\n",
        "predictions_forest = forest.predict(test_data)\n",
        "print('The MSE of this model is:', metrics.mean_squared_error(test_sln, predictions_forest))"
      ],
      "metadata": {
        "colab": {
          "base_uri": "https://localhost:8080/"
        },
        "id": "CRGOCxsj7DuY",
        "outputId": "c3a76bcf-3ac2-43f2-e588-9605dfef9bf8"
      },
      "execution_count": 50,
      "outputs": [
        {
          "output_type": "stream",
          "name": "stdout",
          "text": [
            "The MSE of this model is: 0.6355924654268001\n"
          ]
        }
      ]
    },
    {
      "cell_type": "code",
      "source": [
        "### PRECEPTRON MODEL ###\n",
        "from sklearn.linear_model import Perceptron\n",
        "perceptron = Perceptron()\n",
        "perceptron.fit(train_data,train_sln)\n",
        "predictions_perceptron = perceptron.predict(test_data)\n",
        "print('The MSE of this model is:', metrics.mean_squared_error(test_sln, predictions_perceptron))"
      ],
      "metadata": {
        "colab": {
          "base_uri": "https://localhost:8080/"
        },
        "id": "ufqRY3_w7I8b",
        "outputId": "ccae17e0-5253-4877-c178-28f17891a155"
      },
      "execution_count": 51,
      "outputs": [
        {
          "output_type": "stream",
          "name": "stdout",
          "text": [
            "The MSE of this model is: 1.0085836909871244\n"
          ]
        }
      ]
    },
    {
      "cell_type": "code",
      "source": [
        "### PERCEPTRON GRAPH ###\n",
        "series_perceptron = []\n",
        "for j in range(1, 20):\n",
        "  perceptron_2 = Perceptron(max_iter=j)\n",
        "  perceptron_2.fit(train_data,train_sln)\n",
        "  predictions_perceptron_2 = perceptron_2.predict(test_data)\n",
        "  series_perceptron.append(metrics.mean_squared_error(test_sln, predictions_perceptron_2))"
      ],
      "metadata": {
        "id": "f5ae4JuWBA-Z"
      },
      "execution_count": 52,
      "outputs": []
    },
    {
      "cell_type": "code",
      "source": [
        "### PLOTING POINTS ###\n",
        "import matplotlib.pyplot as plt\n",
        "from itertools import product\n",
        "%matplotlib inline\n",
        "xvals = range(1, 20)\n",
        "plt.suptitle('MSE vs. Max Iterations', fontsize=18)\n",
        "plt.xlabel('Max Iterations')\n",
        "plt.ylabel('MSE')\n",
        "plt.plot(xvals, series_perceptron, 'r,-')\n",
        "plt.axis([0, 20, pd.Series(series_perceptron).min()-.01,pd.Series(series_perceptron).max()+.01])\n",
        "plt.show()"
      ],
      "metadata": {
        "colab": {
          "base_uri": "https://localhost:8080/",
          "height": 308
        },
        "id": "peOgZeVCBdYT",
        "outputId": "c7e80c33-1026-4cee-ac61-5419f30c9b2c"
      },
      "execution_count": 53,
      "outputs": [
        {
          "output_type": "display_data",
          "data": {
            "text/plain": [
              "<Figure size 432x288 with 1 Axes>"
            ],
            "image/png": "[encoded data removed]"
          },
          "metadata": {
            "needs_background": "light"
          }
        }
      ]
    },
    {
      "cell_type": "markdown",
      "source": [
        "#4. Analysis\n",
        "\n",
        "What did you discover? What insights/recommendations do you have? What did you find that was interesting? Which model was your best model, which models didn't work well? Why do you think this is? In general, I want a discussion of your experiment, the results, and what they mean."
      ],
      "metadata": {
        "id": "2Qu9bYPLmiv_"
      }
    },
    {
      "cell_type": "markdown",
      "source": [
        "One thing that was very interesting is that the model that happend to have the lowest MSE was the dummy baseling regession model. This model will always predict the average of the target variable. So it is very supprizing that it did a better job predicting the rating of a restruant than weighted K-NN or even a random forest. I would have thought that k-nn would do the best model, this is because I expected there to be groups of restruants with similar attributes and similar ratings. For example if a restraunt is fast to deilver the food and is open on weekdays and is italian it would be place close to the restraunts on a dimensional graph. The reason it may not be that case is because even if the variables are all relatively close to each other the user writing the review may have hated the food, thus lowing the score and making the neighbors approach irrelavent. The worst model was the preceptron with an almost doubling of MSE than the baseline model. I am not confident as to the reason for this, but it could be that I did not train the perceptron through enough epochs for it to reach its minimum MSE. To combat this I used a graph to see were the minimum MSE would be and it was around .9 in the 7th epoch. The perceptron epochs after that would be overfitting the training data and worsening the testing MSE. Still this MSE would well above that of the other models."
      ],
      "metadata": {
        "id": "k17sKBZUmqIH"
      }
    },
    {
      "cell_type": "markdown",
      "source": [
        "# 5. Bumps in the Road\n",
        "What challenges did you encounter? How did you overcome these challenges?"
      ],
      "metadata": {
        "id": "TemAuKxlm6dQ"
      }
    },
    {
      "cell_type": "markdown",
      "source": [
        "The only challenge I really faced was trying to find a dataset that was not only interseting, but also something with usable data. At first I found a dataset that I wanted to use, unfortunatally the data was so mixed it would have been impossible to use. There were only 4 columns, 3 after using one as a target variable. Of the last 3 one was a date column that had 3 different displays. One of the date types was day-month-year, another was month-day-year, and the third was month spelled out-day-year. Trying to use those dates in any would be impossible for me to figure out. I looked through 4-5 other datasets, most were to small (<500). I then found this data and it looked perfect, after some manipulation I arrived at this step writing all the the bumps out."
      ],
      "metadata": {
        "id": "zXEVEG9FnHgQ"
      }
    },
    {
      "cell_type": "markdown",
      "source": [
        "1: Problem            || 2/2\t\n",
        "2: Data Prep          || 2/2\t\n",
        "3: Research           || 9/10\t\n",
        "4: Analysis           || 7/10\t\n",
        "5: Bumps in the Road. || 1/1\t\n",
        "Total                 || 21/25\t"
      ],
      "metadata": {
        "id": "4txJVCCazZ1g"
      }
    }
  ]
}